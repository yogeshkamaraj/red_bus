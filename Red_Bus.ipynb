{
 "cells": [
  {
   "cell_type": "code",
   "execution_count": null,
   "id": "386461be-90cf-4b03-95c8-5fae0661d9ed",
   "metadata": {},
   "outputs": [],
   "source": [
    "import selenium\n",
    "from selenium import webdriver\n",
    "from selenium.webdriver.common.by import By\n",
    "from selenium.webdriver.support.ui import WebDriverWait \n",
    "from selenium.webdriver.support import expected_conditions as EC\n",
    "from selenium.webdriver.common.keys import Keys\n",
    "import time\n",
    "from selenium.webdriver.common.action_chains import ActionChains\n",
    "import pyautogui as py\n",
    "bus_details=[]\n",
    "\n",
    "def busdetails(i,p):\n",
    "   \n",
    "    time.sleep(10)\n",
    "    #c=driver.find_element(By.CSS_SELECTOR,'div[class=\"button\"]')\n",
    "    #action.move_to_element(c).click()\n",
    "    wait=WebDriverWait(driver,100)\n",
    "    try:\n",
    "        child= driver.find_element(By.CSS_SELECTOR, \"#result-section>div:nth-child(1) .button\")\n",
    "        driver.execute_script(\"arguments[0].scrollIntoView();\", child)\n",
    "        action.move_to_element(child).click().perform()\n",
    "    except:\n",
    "        print('no data')    \n",
    "    \n",
    "    try:\n",
    "        element=driver.find_element(By.CSS_SELECTOR,\"#result-section>div:nth-child(2) .button\")\n",
    "        driver.execute_script(\"arguments[0].scrollIntoView();\", element)\n",
    "        action.move_to_element(element).click().perform()\n",
    "    except:\n",
    "        print(\"nodatafound\")    \n",
    "    element = WebDriverWait(driver, 30).until(EC.presence_of_all_elements_located((By.XPATH,'//div[@class=\"clearfix bus-item\"]')))\n",
    "    \n",
    "    scrolling=True\n",
    "    while element:\n",
    "        old_page_source=driver.page_source\n",
    "        body=driver.find_element(By.TAG_NAME,\"body\")\n",
    "        body.send_keys(Keys.PAGE_DOWN)\n",
    "        time.sleep(2)\n",
    "        new_page_source=driver.page_source\n",
    "        if new_page_source==old_page_source:\n",
    "            element=False\n",
    "    buses = driver.find_elements(By.XPATH,'//div[@class=\"clearfix bus-item-details\"]')\n",
    "    \n",
    "    for bus in buses:\n",
    "        name = bus.find_element(By.CSS_SELECTOR, \".travels\").text\n",
    "        type = bus.find_element(By.CSS_SELECTOR,\".bus-type\").text\n",
    "        departure_time = bus.find_element(By.CSS_SELECTOR, \".dp-time\").text\n",
    "        arrival_time = bus.find_element(By.CSS_SELECTOR, \".bp-time\").text\n",
    "        duration = bus.find_element(By.CSS_SELECTOR, \".dur\").text\n",
    "        price = bus.find_element(By.CSS_SELECTOR, \".fare\").text\n",
    "        seats_available=bus.find_element(By.CSS_SELECTOR,\".seat-left\").text\n",
    "        try:\n",
    "            rating = bus.find_element(By.CSS_SELECTOR, \".rating-sec .rating\").text\n",
    "        except:\n",
    "            rating = \"No rating\"\n",
    "\n",
    "        bus_details.append({\n",
    "            \"route-collected\": i,\n",
    "            \"name\": name,\n",
    "            \"type\":type,\n",
    "            \"departure_time\": departure_time,\n",
    "            \"arrival_time\": arrival_time,\n",
    "            \"duration\": duration,\n",
    "            \"price\": price,\n",
    "            \"seats_available\":seats_available,\n",
    "            \"rating\": rating\n",
    "        })\n",
    "        \n",
    "    max_attempts = 10\n",
    "    attempts = 0\n",
    "    while attempts < max_attempts:\n",
    "        py.hotkey('alt', 'left')\n",
    "        time.sleep(1)\n",
    "        try:\n",
    "            WebDriverWait(driver,10).until(EC.element_to_be_clickable((By.CLASS_NAME, \"route\")))\n",
    "            break\n",
    "        except:\n",
    "            attempts += 1\n",
    "    \n",
    "    scroll=driver.find_element(By.CSS_SELECTOR,f'.DC_117_paginationTable>.DC_117_pageTabs:nth-child({p})')        \n",
    "    action.move_to_element(scroll).click().perform()      \n",
    "       \n",
    "\n",
    "\n",
    "driver=webdriver.Chrome()\n",
    "driver.get(\"https://www.redbus.in/online-booking/ksrtc-kerala/?utm_source=rtchometile\")\n",
    "action=ActionChains(driver)\n",
    "\n",
    "\n",
    "p=1\n",
    "\n",
    "for j in range(1,6):\n",
    "    \n",
    "    scroll=driver.find_element(By.CSS_SELECTOR,f'.DC_117_paginationTable>.DC_117_pageTabs:nth-child({j})')\n",
    "    action.move_to_element(scroll).click().perform()\n",
    "    route_collected=[]\n",
    "    c=driver.find_elements(By.CLASS_NAME,\"route\")\n",
    "    route_collected.extend([i.text for i in c])\n",
    "    \n",
    "    for i in route_collected:\n",
    "        d=driver.find_element(By.LINK_TEXT,i)\n",
    "        action.move_to_element(d).click().perform()\n",
    "        busdetails(i,p)\n",
    "   \n",
    "    p+=1    \n",
    "    \n"
   ]
  },
  {
   "cell_type": "code",
   "execution_count": 67,
   "id": "e1da7cc9-f2fa-4d4d-bb14-fd55e1993555",
   "metadata": {},
   "outputs": [],
   "source": [
    "import pandas as pd\n",
    "df=pd.DataFrame(bus_details)\n",
    "df.to_csv(\"bihar.csv\")\n",
    "df.to_csv(\"assam.csv\")\n",
    "df.to_csv(\"telungana.csv\")\n",
    "df.to_csv(\"kerala.csv\")\n",
    "df.to_csv(\"aandhra.csv\")\n",
    "df.to_csv(\"kadamba.csv\")\n",
    "df.to_csv(\"delhi.csv\")\n",
    "df.to_csv(\"chandigar.csv\")\n",
    "df.to_csv(\"jammu.csv\")\n",
    "df.to_csv(\"rajasthan.csv\")"
   ]
  },
  {
   "cell_type": "code",
   "execution_count": 68,
   "id": "be0e9be3-b9fe-4111-82f9-8d1749904f41",
   "metadata": {},
   "outputs": [],
   "source": [
    "import pandas as pd\n",
    "aandra=pd.read_csv(\"aandra.csv\")\n",
    "assam=pd.read_csv('assam.csv')\n",
    "bihar=pd.read_csv('bihar.csv')\n",
    "chandigar=pd.read_csv('chandigar.csv')\n",
    "delhi=pd.read_csv('Delhi.csv')\n",
    "jammu=pd.read_csv('jammu.csv')\n",
    "kadamba=pd.read_csv('kadmba.csv')\n",
    "kerala=pd.read_csv('kerala.csv')\n",
    "rajasthan=pd.read_csv('rajasthan.csv')\n",
    "telungana=pd.read_csv('telungana.csv')\n",
    "final=pd.concat([aandra,assam,bihar,chandigar,delhi,jammu,kadamba,kerala,rajasthan,telungana])"
   ]
  },
  {
   "cell_type": "code",
   "execution_count": 70,
   "id": "21d418f4-54a9-43c4-9f7f-ee5174ca83a2",
   "metadata": {},
   "outputs": [],
   "source": [
    "columns_to_convert = ['route-collected','name', 'type']\n",
    "final[columns_to_convert]=final[columns_to_convert].astype('string')"
   ]
  },
  {
   "cell_type": "code",
   "execution_count": 71,
   "id": "4eed2b78-2bfe-4019-99aa-7ddba347059e",
   "metadata": {},
   "outputs": [],
   "source": [
    "def change_name(x):\n",
    "    return x.str.replace(r'[A-Za-z]+', '', regex=True)"
   ]
  },
  {
   "cell_type": "code",
   "execution_count": 72,
   "id": "f92b8ca0-155d-4fff-b591-5a8b82a691a8",
   "metadata": {},
   "outputs": [],
   "source": [
    "final['seats_available']=final['seats_available'].transform(change_name)\n",
    "final['price']=final['price'].transform(change_name)"
   ]
  },
  {
   "cell_type": "code",
   "execution_count": 73,
   "id": "618f2beb-8020-4ef6-87b1-c85c9c336db7",
   "metadata": {},
   "outputs": [],
   "source": [
    "final['rating'] = pd.to_numeric(final['rating'], errors='coerce')\n",
    "final['rating']=final['rating'].fillna(0)\n",
    "final['rating']=final['rating'].astype('float64')"
   ]
  },
  {
   "cell_type": "code",
   "execution_count": 74,
   "id": "2d1466d9-def2-4ba1-93d0-ffd7a91ebb16",
   "metadata": {},
   "outputs": [],
   "source": [
    "final['seats_available'] = pd.to_numeric(final['seats_available'], errors='coerce')\n",
    "final['seats_available']=final['seats_available'].fillna(0)\n",
    "final['seats_available']=final['seats_available'].astype('int64')"
   ]
  },
  {
   "cell_type": "code",
   "execution_count": 75,
   "id": "3873f316-05ba-40d0-9f9d-e44353890bc1",
   "metadata": {},
   "outputs": [],
   "source": [
    "final['price'] = pd.to_numeric(final['price'], errors='coerce')\n",
    "final['price']=final['price'].fillna(0)\n",
    "final['price']=final['price'].astype('int64')"
   ]
  },
  {
   "cell_type": "code",
   "execution_count": 76,
   "id": "fdb6c13a-6926-4dbe-9ea8-caa50a115d17",
   "metadata": {},
   "outputs": [],
   "source": [
    "red_bus=final.drop(columns='Unnamed: 0')"
   ]
  },
  {
   "cell_type": "code",
   "execution_count": 77,
   "id": "e0cca592-6f78-4df7-8cba-3a6f018d3b4f",
   "metadata": {},
   "outputs": [],
   "source": [
    "red_bus.rename_axis('s_no', inplace=True)"
   ]
  },
  {
   "cell_type": "code",
   "execution_count": null,
   "id": "93aa9667-1548-4230-81c1-f030c2b5c9e2",
   "metadata": {},
   "outputs": [],
   "source": [
    "red_bus.to_csv(\"red_bus.csv\")"
   ]
  }
 ],
 "metadata": {
  "kernelspec": {
   "display_name": "Python 3 (ipykernel)",
   "language": "python",
   "name": "python3"
  },
  "language_info": {
   "codemirror_mode": {
    "name": "ipython",
    "version": 3
   },
   "file_extension": ".py",
   "mimetype": "text/x-python",
   "name": "python",
   "nbconvert_exporter": "python",
   "pygments_lexer": "ipython3",
   "version": "3.11.7"
  }
 },
 "nbformat": 4,
 "nbformat_minor": 5
}
