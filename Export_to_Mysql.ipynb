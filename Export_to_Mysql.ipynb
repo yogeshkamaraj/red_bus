{
 "cells": [
  {
   "cell_type": "code",
   "execution_count": null,
   "id": "7690c2f0-2662-445c-9bad-bc80b285c66c",
   "metadata": {},
   "outputs": [],
   "source": [
    "import pandas as pd\n",
    "import pymysql\n",
    "from sqlalchemy import create_engine\n",
    " \n",
    "host = \"localhost\"\n",
    "port = \"3306\"\n",
    "username = \"root\"\n",
    "password = \"******\"\n",
    "database = \"*****\"\n",
    " \n",
    "engine_string = f\"mysql+pymysql://{username}:{password}@{host}:{port}/{database}\"\n",
    "engine = create_engine(engine_string)\n",
    " \n",
    "table_name = \"red_bus\"\n",
    "df = pd.read_csv('red_bus.csv')\n",
    "df.to_sql(table_name, engine, index=False)\n",
    "print(\"success\")"
   ]
  }
 ],
 "metadata": {
  "kernelspec": {
   "display_name": "Python 3 (ipykernel)",
   "language": "python",
   "name": "python3"
  },
  "language_info": {
   "codemirror_mode": {
    "name": "ipython",
    "version": 3
   },
   "file_extension": ".py",
   "mimetype": "text/x-python",
   "name": "python",
   "nbconvert_exporter": "python",
   "pygments_lexer": "ipython3",
   "version": "3.11.7"
  }
 },
 "nbformat": 4,
 "nbformat_minor": 5
}
